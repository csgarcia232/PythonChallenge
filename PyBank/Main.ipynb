{
 "cells": [
  {
   "cell_type": "code",
   "execution_count": 1,
   "metadata": {},
   "outputs": [],
   "source": [
    "import pandas as pd\n",
    "import csv"
   ]
  },
  {
   "cell_type": "code",
   "execution_count": 2,
   "metadata": {},
   "outputs": [
    {
     "data": {
      "text/html": [
       "<div>\n",
       "<style scoped>\n",
       "    .dataframe tbody tr th:only-of-type {\n",
       "        vertical-align: middle;\n",
       "    }\n",
       "\n",
       "    .dataframe tbody tr th {\n",
       "        vertical-align: top;\n",
       "    }\n",
       "\n",
       "    .dataframe thead th {\n",
       "        text-align: right;\n",
       "    }\n",
       "</style>\n",
       "<table border=\"1\" class=\"dataframe\">\n",
       "  <thead>\n",
       "    <tr style=\"text-align: right;\">\n",
       "      <th></th>\n",
       "      <th>Date</th>\n",
       "      <th>Profit/Losses</th>\n",
       "    </tr>\n",
       "  </thead>\n",
       "  <tbody>\n",
       "    <tr>\n",
       "      <td>0</td>\n",
       "      <td>Jan-2010</td>\n",
       "      <td>867884</td>\n",
       "    </tr>\n",
       "    <tr>\n",
       "      <td>1</td>\n",
       "      <td>Feb-2010</td>\n",
       "      <td>984655</td>\n",
       "    </tr>\n",
       "    <tr>\n",
       "      <td>2</td>\n",
       "      <td>Mar-2010</td>\n",
       "      <td>322013</td>\n",
       "    </tr>\n",
       "    <tr>\n",
       "      <td>3</td>\n",
       "      <td>Apr-2010</td>\n",
       "      <td>-69417</td>\n",
       "    </tr>\n",
       "    <tr>\n",
       "      <td>4</td>\n",
       "      <td>May-2010</td>\n",
       "      <td>310503</td>\n",
       "    </tr>\n",
       "  </tbody>\n",
       "</table>\n",
       "</div>"
      ],
      "text/plain": [
       "       Date  Profit/Losses\n",
       "0  Jan-2010         867884\n",
       "1  Feb-2010         984655\n",
       "2  Mar-2010         322013\n",
       "3  Apr-2010         -69417\n",
       "4  May-2010         310503"
      ]
     },
     "execution_count": 2,
     "metadata": {},
     "output_type": "execute_result"
    }
   ],
   "source": [
    "budgetdata_df = \"Resources/budget_data.csv\"\n",
    "budgetdata_df= pd.read_csv(budgetdata_df)\n",
    "budgetdata_df.head()"
   ]
  },
  {
   "cell_type": "code",
   "execution_count": 3,
   "metadata": {},
   "outputs": [
    {
     "data": {
      "text/plain": [
       "'Jan-2010Feb-2010Mar-2010Apr-2010May-2010Jun-2010Jul-2010Aug-2010Sep-2010Oct-2010Nov-2010Dec-2010Jan-2011Feb-2011Mar-2011Apr-2011May-2011Jun-2011Jul-2011Aug-2011Sep-2011Oct-2011Nov-2011Dec-2011Jan-2012Feb-2012Mar-2012Apr-2012May-2012Jun-2012Jul-2012Aug-2012Sep-2012Oct-2012Nov-2012Dec-2012Jan-2013Feb-2013Mar-2013Apr-2013May-2013Jun-2013Jul-2013Aug-2013Sep-2013Oct-2013Nov-2013Dec-2013Jan-2014Feb-2014Mar-2014Apr-2014May-2014Jun-2014Jul-2014Aug-2014Sep-2014Oct-2014Nov-2014Dec-2014Jan-2015Feb-2015Mar-2015Apr-2015May-2015Jun-2015Jul-2015Aug-2015Sep-2015Oct-2015Nov-2015Dec-2015Jan-2016Feb-2016Mar-2016Apr-2016May-2016Jun-2016Jul-2016Aug-2016Sep-2016Oct-2016Nov-2016Dec-2016Jan-2017Feb-2017'"
      ]
     },
     "execution_count": 3,
     "metadata": {},
     "output_type": "execute_result"
    }
   ],
   "source": [
    "total_months_test = budgetdata_df[\"Date\"].sum()\n",
    "total_months_test"
   ]
  },
  {
   "cell_type": "code",
   "execution_count": 4,
   "metadata": {},
   "outputs": [
    {
     "data": {
      "text/plain": [
       "Date             object\n",
       "Profit/Losses     int64\n",
       "dtype: object"
      ]
     },
     "execution_count": 4,
     "metadata": {},
     "output_type": "execute_result"
    }
   ],
   "source": [
    "budgetdata_df.dtypes\n"
   ]
  },
  {
   "cell_type": "code",
   "execution_count": 5,
   "metadata": {},
   "outputs": [
    {
     "data": {
      "text/plain": [
       "86"
      ]
     },
     "execution_count": 5,
     "metadata": {},
     "output_type": "execute_result"
    }
   ],
   "source": [
    "total_months = budgetdata_df[\"Date\"].count()\n",
    "total_months"
   ]
  },
  {
   "cell_type": "code",
   "execution_count": 6,
   "metadata": {
    "scrolled": true
   },
   "outputs": [
    {
     "data": {
      "text/plain": [
       "count    8.600000e+01\n",
       "mean     4.463090e+05\n",
       "std      5.363579e+05\n",
       "min     -1.196225e+06\n",
       "25%      1.821620e+05\n",
       "50%      5.703280e+05\n",
       "75%      7.952262e+05\n",
       "max      1.170593e+06\n",
       "Name: Profit/Losses, dtype: float64"
      ]
     },
     "execution_count": 6,
     "metadata": {},
     "output_type": "execute_result"
    }
   ],
   "source": [
    "profit_lossesdf = budgetdata_df[\"Profit/Losses\"].describe()\n",
    "profit_lossesdf"
   ]
  },
  {
   "cell_type": "code",
   "execution_count": 7,
   "metadata": {},
   "outputs": [
    {
     "data": {
      "text/plain": [
       "count          $86.00\n",
       "mean       $446309.05\n",
       "std        $536357.95\n",
       "min      $-1196225.00\n",
       "25%        $182162.00\n",
       "50%        $570328.00\n",
       "75%        $795226.25\n",
       "max       $1170593.00\n",
       "Name: Profit/Losses, dtype: object"
      ]
     },
     "execution_count": 7,
     "metadata": {},
     "output_type": "execute_result"
    }
   ],
   "source": [
    "profit_lossesdf = profit_lossesdf.map(\"${:.2f}\".format)\n",
    "profit_lossesdf\n"
   ]
  },
  {
   "cell_type": "code",
   "execution_count": 8,
   "metadata": {},
   "outputs": [
    {
     "data": {
      "text/plain": [
       "38382578"
      ]
     },
     "execution_count": 8,
     "metadata": {},
     "output_type": "execute_result"
    }
   ],
   "source": [
    "total = budgetdata_df[\"Profit/Losses\"].sum()\n",
    "total"
   ]
  },
  {
   "cell_type": "code",
   "execution_count": 9,
   "metadata": {},
   "outputs": [
    {
     "data": {
      "text/plain": [
       "446309.0465116279"
      ]
     },
     "execution_count": 9,
     "metadata": {},
     "output_type": "execute_result"
    }
   ],
   "source": [
    "average = budgetdata_df[\"Profit/Losses\"].mean()\n",
    "average"
   ]
  },
  {
   "cell_type": "code",
   "execution_count": 10,
   "metadata": {},
   "outputs": [
    {
     "data": {
      "text/plain": [
       "1170593"
      ]
     },
     "execution_count": 10,
     "metadata": {},
     "output_type": "execute_result"
    }
   ],
   "source": [
    "greatest_increase = budgetdata_df[\"Profit/Losses\"].max()\n",
    "greatest_increase"
   ]
  },
  {
   "cell_type": "code",
   "execution_count": 11,
   "metadata": {},
   "outputs": [
    {
     "data": {
      "text/plain": [
       "-1196225"
      ]
     },
     "execution_count": 11,
     "metadata": {},
     "output_type": "execute_result"
    }
   ],
   "source": [
    "greatest_decrease =  budgetdata_df[\"Profit/Losses\"].min()\n",
    "greatest_decrease"
   ]
  },
  {
   "cell_type": "code",
   "execution_count": 12,
   "metadata": {},
   "outputs": [
    {
     "name": "stdout",
     "output_type": "stream",
     "text": [
      "Financial Analysis\n",
      "------------------\n",
      "Total Months: 86\n",
      "Total: $38,382,578\n",
      "Average: $446,309.05\n",
      "Greatest Increase in Profits: $1,170,593\n",
      "Greatest Decrease in Profits: $1,196,225\n"
     ]
    }
   ],
   "source": [
    "print(\"Financial Analysis\")\n",
    "print(\"------------------\")\n",
    "print(\"Total Months: 86\")\n",
    "print(\"Total: $38,382,578\")\n",
    "print(\"Average: $446,309.05\")\n",
    "print(\"Greatest Increase in Profits: $1,170,593\")\n",
    "print(\"Greatest Decrease in Profits: $1,196,225\")"
   ]
  },
  {
   "cell_type": "code",
   "execution_count": 13,
   "metadata": {},
   "outputs": [],
   "source": [
    "# So I didn't calculate the 'Average Change', I couldn't find the code to do so. I'm sure I just overlooked it, but I couldn't remember if we'd gone over that or not. \n",
    "# I also couldn't figure out how to incorporate the numbers I found through the \n",
    "# functions into the print out I made at the bottom, so I just typed it out.\n",
    "# I am sure this is not ideal in real life. I did everything with Pandas because it\n",
    "# made more sense to me. Ethan stated this was okay. "
   ]
  },
  {
   "cell_type": "code",
   "execution_count": null,
   "metadata": {},
   "outputs": [],
   "source": []
  },
  {
   "cell_type": "code",
   "execution_count": null,
   "metadata": {},
   "outputs": [],
   "source": []
  }
 ],
 "metadata": {
  "kernelspec": {
   "display_name": "Python 3",
   "language": "python",
   "name": "python3"
  },
  "language_info": {
   "codemirror_mode": {
    "name": "ipython",
    "version": 3
   },
   "file_extension": ".py",
   "mimetype": "text/x-python",
   "name": "python",
   "nbconvert_exporter": "python",
   "pygments_lexer": "ipython3",
   "version": "3.7.4"
  }
 },
 "nbformat": 4,
 "nbformat_minor": 2
}
